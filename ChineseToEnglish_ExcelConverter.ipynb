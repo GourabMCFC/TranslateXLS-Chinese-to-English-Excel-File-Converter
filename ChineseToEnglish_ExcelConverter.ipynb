{
  "nbformat": 4,
  "nbformat_minor": 0,
  "metadata": {
    "colab": {
      "provenance": []
    },
    "kernelspec": {
      "name": "python3",
      "display_name": "Python 3"
    },
    "language_info": {
      "name": "python"
    }
  },
  "cells": [
    {
      "cell_type": "code",
      "source": [
        "!pip install -U deep-translator"
      ],
      "metadata": {
        "id": "L5vqyINO5Bp6"
      },
      "execution_count": null,
      "outputs": []
    },
    {
      "cell_type": "code",
      "source": [
        "import pandas as pd\n",
        "from deep_translator import GoogleTranslator\n",
        "import time\n",
        "import io\n",
        "from google.colab import files"
      ],
      "metadata": {
        "id": "aEWDA2yGAohj"
      },
      "execution_count": null,
      "outputs": []
    },
    {
      "cell_type": "code",
      "source": [
        "# prompt: python code to upload a excel file and show its content\n",
        "uploaded = files.upload()\n",
        "for fn in uploaded.keys():\n",
        "  with io.BytesIO(uploaded[fn]) as f:\n",
        "    df = pd.read_excel(f)"
      ],
      "metadata": {
        "id": "jL0N7AS29pOO"
      },
      "execution_count": null,
      "outputs": []
    },
    {
      "cell_type": "code",
      "source": [
        "# Start time for performance measurement\n",
        "start_time = time.time()\n",
        "# prompt: replace all the NaN with \"\"\n",
        "df.fillna('', inplace=True)"
      ],
      "metadata": {
        "id": "h6Ue491N-Um5"
      },
      "execution_count": null,
      "outputs": []
    },
    {
      "cell_type": "code",
      "source": [
        "# Create a translator object\n",
        "translator = GoogleTranslator(source='zh-TW', target='en')\n",
        "# Function to translate a given text to English\n",
        "def translate_to_english(text):\n",
        "    if not text:\n",
        "        return \"\"  # Handle empty or whitespace-only inputs concisely\n",
        "    if text.isnumeric():\n",
        "        return text  # Avoid unnecessary translation for numeric strings\n",
        "    return translator.translate(text)"
      ],
      "metadata": {
        "id": "t80r5YlsZReE"
      },
      "execution_count": null,
      "outputs": []
    },
    {
      "cell_type": "code",
      "source": [
        "# Translate the column names\n",
        "df.columns = [translate_to_english(header) for header in df.columns]\n",
        "#Translate the excel file contents\n",
        "for column in df.columns:\n",
        "    df[column] = [translate_to_english(str(text)) for text in df[column]]"
      ],
      "metadata": {
        "id": "HKIENa4EmCnB"
      },
      "execution_count": null,
      "outputs": []
    },
    {
      "cell_type": "code",
      "source": [
        "df.to_excel(\"translated_sheet.xlsx\", index=False)"
      ],
      "metadata": {
        "id": "k6lau-J64vz7"
      },
      "execution_count": null,
      "outputs": []
    },
    {
      "cell_type": "code",
      "source": [
        "# End time and calculate duration\n",
        "end_time = time.time()\n",
        "duration = end_time - start_time\n",
        "\n",
        "# Print the time taken for translation and saving\n",
        "print(f\"Translation and saving completed in {duration:.2f} seconds.\")"
      ],
      "metadata": {
        "id": "EuQxEtCt9cto"
      },
      "execution_count": null,
      "outputs": []
    }
  ]
}